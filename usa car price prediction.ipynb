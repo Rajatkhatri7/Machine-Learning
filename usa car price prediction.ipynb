{
 "cells": [
  {
   "cell_type": "code",
   "execution_count": 1,
   "metadata": {},
   "outputs": [
    {
     "data": {
      "text/plain": [
       "'/home/gufopc/Documents/Mahine learning/Machine-Learning'"
      ]
     },
     "execution_count": 1,
     "metadata": {},
     "output_type": "execute_result"
    }
   ],
   "source": [
    "pwd"
   ]
  },
  {
   "cell_type": "code",
   "execution_count": 2,
   "metadata": {},
   "outputs": [],
   "source": [
    "import pandas as pd\n",
    "\n",
    "import numpy as np\n",
    "import matplotlib.pyplot as plt\n",
    "import seaborn as sns\n",
    "%matplotlib inline"
   ]
  },
  {
   "cell_type": "code",
   "execution_count": 4,
   "metadata": {},
   "outputs": [],
   "source": [
    "Path=\"Datasets/USA_cars_datasets.csv\""
   ]
  },
  {
   "cell_type": "code",
   "execution_count": 5,
   "metadata": {},
   "outputs": [],
   "source": [
    "data   = pd.read_csv(f\"{Path}\")"
   ]
  },
  {
   "cell_type": "code",
   "execution_count": 6,
   "metadata": {},
   "outputs": [
    {
     "data": {
      "text/html": [
       "<div>\n",
       "<style scoped>\n",
       "    .dataframe tbody tr th:only-of-type {\n",
       "        vertical-align: middle;\n",
       "    }\n",
       "\n",
       "    .dataframe tbody tr th {\n",
       "        vertical-align: top;\n",
       "    }\n",
       "\n",
       "    .dataframe thead th {\n",
       "        text-align: right;\n",
       "    }\n",
       "</style>\n",
       "<table border=\"1\" class=\"dataframe\">\n",
       "  <thead>\n",
       "    <tr style=\"text-align: right;\">\n",
       "      <th></th>\n",
       "      <th>index</th>\n",
       "      <th>price</th>\n",
       "      <th>brand</th>\n",
       "      <th>model</th>\n",
       "      <th>year</th>\n",
       "      <th>title_status</th>\n",
       "      <th>mileage</th>\n",
       "      <th>color</th>\n",
       "      <th>vin</th>\n",
       "      <th>lot</th>\n",
       "      <th>state</th>\n",
       "      <th>country</th>\n",
       "      <th>condition</th>\n",
       "    </tr>\n",
       "  </thead>\n",
       "  <tbody>\n",
       "    <tr>\n",
       "      <th>0</th>\n",
       "      <td>0</td>\n",
       "      <td>6300</td>\n",
       "      <td>toyota</td>\n",
       "      <td>cruiser</td>\n",
       "      <td>2008</td>\n",
       "      <td>clean vehicle</td>\n",
       "      <td>274117</td>\n",
       "      <td>black</td>\n",
       "      <td>jtezu11f88k007763</td>\n",
       "      <td>159348797</td>\n",
       "      <td>new jersey</td>\n",
       "      <td>usa</td>\n",
       "      <td>10 days left</td>\n",
       "    </tr>\n",
       "    <tr>\n",
       "      <th>1</th>\n",
       "      <td>1</td>\n",
       "      <td>2899</td>\n",
       "      <td>ford</td>\n",
       "      <td>se</td>\n",
       "      <td>2011</td>\n",
       "      <td>clean vehicle</td>\n",
       "      <td>190552</td>\n",
       "      <td>silver</td>\n",
       "      <td>2fmdk3gc4bbb02217</td>\n",
       "      <td>166951262</td>\n",
       "      <td>tennessee</td>\n",
       "      <td>usa</td>\n",
       "      <td>6 days left</td>\n",
       "    </tr>\n",
       "    <tr>\n",
       "      <th>2</th>\n",
       "      <td>2</td>\n",
       "      <td>5350</td>\n",
       "      <td>dodge</td>\n",
       "      <td>mpv</td>\n",
       "      <td>2018</td>\n",
       "      <td>clean vehicle</td>\n",
       "      <td>39590</td>\n",
       "      <td>silver</td>\n",
       "      <td>3c4pdcgg5jt346413</td>\n",
       "      <td>167655728</td>\n",
       "      <td>georgia</td>\n",
       "      <td>usa</td>\n",
       "      <td>2 days left</td>\n",
       "    </tr>\n",
       "    <tr>\n",
       "      <th>3</th>\n",
       "      <td>3</td>\n",
       "      <td>25000</td>\n",
       "      <td>ford</td>\n",
       "      <td>door</td>\n",
       "      <td>2014</td>\n",
       "      <td>clean vehicle</td>\n",
       "      <td>64146</td>\n",
       "      <td>blue</td>\n",
       "      <td>1ftfw1et4efc23745</td>\n",
       "      <td>167753855</td>\n",
       "      <td>virginia</td>\n",
       "      <td>usa</td>\n",
       "      <td>22 hours left</td>\n",
       "    </tr>\n",
       "    <tr>\n",
       "      <th>4</th>\n",
       "      <td>4</td>\n",
       "      <td>27700</td>\n",
       "      <td>chevrolet</td>\n",
       "      <td>1500</td>\n",
       "      <td>2018</td>\n",
       "      <td>clean vehicle</td>\n",
       "      <td>6654</td>\n",
       "      <td>red</td>\n",
       "      <td>3gcpcrec2jg473991</td>\n",
       "      <td>167763266</td>\n",
       "      <td>florida</td>\n",
       "      <td>usa</td>\n",
       "      <td>22 hours left</td>\n",
       "    </tr>\n",
       "  </tbody>\n",
       "</table>\n",
       "</div>"
      ],
      "text/plain": [
       "   index  price      brand    model  year   title_status  mileage   color  \\\n",
       "0      0   6300     toyota  cruiser  2008  clean vehicle   274117   black   \n",
       "1      1   2899       ford       se  2011  clean vehicle   190552  silver   \n",
       "2      2   5350      dodge      mpv  2018  clean vehicle    39590  silver   \n",
       "3      3  25000       ford     door  2014  clean vehicle    64146    blue   \n",
       "4      4  27700  chevrolet     1500  2018  clean vehicle     6654     red   \n",
       "\n",
       "                   vin        lot       state country      condition  \n",
       "0    jtezu11f88k007763  159348797  new jersey     usa   10 days left  \n",
       "1    2fmdk3gc4bbb02217  166951262   tennessee     usa    6 days left  \n",
       "2    3c4pdcgg5jt346413  167655728     georgia     usa    2 days left  \n",
       "3    1ftfw1et4efc23745  167753855    virginia     usa  22 hours left  \n",
       "4    3gcpcrec2jg473991  167763266     florida     usa  22 hours left  "
      ]
     },
     "execution_count": 6,
     "metadata": {},
     "output_type": "execute_result"
    }
   ],
   "source": [
    "data.head()"
   ]
  },
  {
   "cell_type": "code",
   "execution_count": 5,
   "metadata": {},
   "outputs": [
    {
     "data": {
      "text/plain": [
       " usa       2492\n",
       " canada       7\n",
       "Name: country, dtype: int64"
      ]
     },
     "execution_count": 5,
     "metadata": {},
     "output_type": "execute_result"
    }
   ],
   "source": [
    "data.country.value_counts()"
   ]
  },
  {
   "cell_type": "code",
   "execution_count": 6,
   "metadata": {},
   "outputs": [],
   "source": [
    "data.drop(\"index\",axis=1,inplace=True)"
   ]
  },
  {
   "cell_type": "code",
   "execution_count": 7,
   "metadata": {},
   "outputs": [
    {
     "data": {
      "text/html": [
       "<div>\n",
       "<style scoped>\n",
       "    .dataframe tbody tr th:only-of-type {\n",
       "        vertical-align: middle;\n",
       "    }\n",
       "\n",
       "    .dataframe tbody tr th {\n",
       "        vertical-align: top;\n",
       "    }\n",
       "\n",
       "    .dataframe thead th {\n",
       "        text-align: right;\n",
       "    }\n",
       "</style>\n",
       "<table border=\"1\" class=\"dataframe\">\n",
       "  <thead>\n",
       "    <tr style=\"text-align: right;\">\n",
       "      <th></th>\n",
       "      <th>price</th>\n",
       "      <th>brand</th>\n",
       "      <th>model</th>\n",
       "      <th>year</th>\n",
       "      <th>title_status</th>\n",
       "      <th>mileage</th>\n",
       "      <th>color</th>\n",
       "      <th>vin</th>\n",
       "      <th>lot</th>\n",
       "      <th>state</th>\n",
       "      <th>country</th>\n",
       "      <th>condition</th>\n",
       "    </tr>\n",
       "  </thead>\n",
       "  <tbody>\n",
       "    <tr>\n",
       "      <th>0</th>\n",
       "      <td>6300</td>\n",
       "      <td>toyota</td>\n",
       "      <td>cruiser</td>\n",
       "      <td>2008</td>\n",
       "      <td>clean vehicle</td>\n",
       "      <td>274117</td>\n",
       "      <td>black</td>\n",
       "      <td>jtezu11f88k007763</td>\n",
       "      <td>159348797</td>\n",
       "      <td>new jersey</td>\n",
       "      <td>usa</td>\n",
       "      <td>10 days left</td>\n",
       "    </tr>\n",
       "    <tr>\n",
       "      <th>1</th>\n",
       "      <td>2899</td>\n",
       "      <td>ford</td>\n",
       "      <td>se</td>\n",
       "      <td>2011</td>\n",
       "      <td>clean vehicle</td>\n",
       "      <td>190552</td>\n",
       "      <td>silver</td>\n",
       "      <td>2fmdk3gc4bbb02217</td>\n",
       "      <td>166951262</td>\n",
       "      <td>tennessee</td>\n",
       "      <td>usa</td>\n",
       "      <td>6 days left</td>\n",
       "    </tr>\n",
       "    <tr>\n",
       "      <th>2</th>\n",
       "      <td>5350</td>\n",
       "      <td>dodge</td>\n",
       "      <td>mpv</td>\n",
       "      <td>2018</td>\n",
       "      <td>clean vehicle</td>\n",
       "      <td>39590</td>\n",
       "      <td>silver</td>\n",
       "      <td>3c4pdcgg5jt346413</td>\n",
       "      <td>167655728</td>\n",
       "      <td>georgia</td>\n",
       "      <td>usa</td>\n",
       "      <td>2 days left</td>\n",
       "    </tr>\n",
       "    <tr>\n",
       "      <th>3</th>\n",
       "      <td>25000</td>\n",
       "      <td>ford</td>\n",
       "      <td>door</td>\n",
       "      <td>2014</td>\n",
       "      <td>clean vehicle</td>\n",
       "      <td>64146</td>\n",
       "      <td>blue</td>\n",
       "      <td>1ftfw1et4efc23745</td>\n",
       "      <td>167753855</td>\n",
       "      <td>virginia</td>\n",
       "      <td>usa</td>\n",
       "      <td>22 hours left</td>\n",
       "    </tr>\n",
       "    <tr>\n",
       "      <th>4</th>\n",
       "      <td>27700</td>\n",
       "      <td>chevrolet</td>\n",
       "      <td>1500</td>\n",
       "      <td>2018</td>\n",
       "      <td>clean vehicle</td>\n",
       "      <td>6654</td>\n",
       "      <td>red</td>\n",
       "      <td>3gcpcrec2jg473991</td>\n",
       "      <td>167763266</td>\n",
       "      <td>florida</td>\n",
       "      <td>usa</td>\n",
       "      <td>22 hours left</td>\n",
       "    </tr>\n",
       "  </tbody>\n",
       "</table>\n",
       "</div>"
      ],
      "text/plain": [
       "   price      brand    model  year   title_status  mileage   color  \\\n",
       "0   6300     toyota  cruiser  2008  clean vehicle   274117   black   \n",
       "1   2899       ford       se  2011  clean vehicle   190552  silver   \n",
       "2   5350      dodge      mpv  2018  clean vehicle    39590  silver   \n",
       "3  25000       ford     door  2014  clean vehicle    64146    blue   \n",
       "4  27700  chevrolet     1500  2018  clean vehicle     6654     red   \n",
       "\n",
       "                   vin        lot       state country      condition  \n",
       "0    jtezu11f88k007763  159348797  new jersey     usa   10 days left  \n",
       "1    2fmdk3gc4bbb02217  166951262   tennessee     usa    6 days left  \n",
       "2    3c4pdcgg5jt346413  167655728     georgia     usa    2 days left  \n",
       "3    1ftfw1et4efc23745  167753855    virginia     usa  22 hours left  \n",
       "4    3gcpcrec2jg473991  167763266     florida     usa  22 hours left  "
      ]
     },
     "execution_count": 7,
     "metadata": {},
     "output_type": "execute_result"
    }
   ],
   "source": [
    "data.head()"
   ]
  },
  {
   "cell_type": "code",
   "execution_count": 8,
   "metadata": {},
   "outputs": [],
   "source": [
    "data.drop(['vin', 'lot'], axis=1, inplace=True)"
   ]
  },
  {
   "cell_type": "code",
   "execution_count": 9,
   "metadata": {},
   "outputs": [
    {
     "data": {
      "text/plain": [
       "(2499, 10)"
      ]
     },
     "execution_count": 9,
     "metadata": {},
     "output_type": "execute_result"
    }
   ],
   "source": [
    "data.shape"
   ]
  },
  {
   "cell_type": "code",
   "execution_count": 10,
   "metadata": {},
   "outputs": [
    {
     "data": {
      "text/plain": [
       "price           0\n",
       "brand           0\n",
       "model           0\n",
       "year            0\n",
       "title_status    0\n",
       "mileage         0\n",
       "color           0\n",
       "state           0\n",
       "country         0\n",
       "condition       0\n",
       "dtype: int64"
      ]
     },
     "execution_count": 10,
     "metadata": {},
     "output_type": "execute_result"
    }
   ],
   "source": [
    "data.isna().sum()\n",
    "#check if any value is null"
   ]
  },
  {
   "cell_type": "code",
   "execution_count": 11,
   "metadata": {},
   "outputs": [
    {
     "data": {
      "text/plain": [
       "price            int64\n",
       "brand           object\n",
       "model           object\n",
       "year             int64\n",
       "title_status    object\n",
       "mileage          int64\n",
       "color           object\n",
       "state           object\n",
       "country         object\n",
       "condition       object\n",
       "dtype: object"
      ]
     },
     "execution_count": 11,
     "metadata": {},
     "output_type": "execute_result"
    }
   ],
   "source": [
    "data.dtypes"
   ]
  },
  {
   "cell_type": "code",
   "execution_count": 12,
   "metadata": {},
   "outputs": [
    {
     "data": {
      "text/plain": [
       "Text(0.5, 1.0, 'Distribution of Car Prices')"
      ]
     },
     "execution_count": 12,
     "metadata": {},
     "output_type": "execute_result"
    },
    {
     "data": {
      "image/png": "[encoded data removed]",
      "text/plain": [
       "<Figure size 720x432 with 1 Axes>"
      ]
     },
     "metadata": {
      "needs_background": "light"
     },
     "output_type": "display_data"
    }
   ],
   "source": [
    "plt.figure(figsize=(10,6))\n",
    "sns.distplot(data['price']).set_title('Distribution of Car Prices')"
   ]
  },
  {
   "cell_type": "code",
   "execution_count": 13,
   "metadata": {},
   "outputs": [],
   "source": [
    "#above graph shows that no of  expansive car are more than cheaper car in dataset"
   ]
  },
  {
   "cell_type": "code",
   "execution_count": 14,
   "metadata": {},
   "outputs": [
    {
     "data": {
      "text/plain": [
       "ford               1235\n",
       "dodge               432\n",
       "nissan              312\n",
       "chevrolet           297\n",
       "gmc                  42\n",
       "jeep                 30\n",
       "chrysler             18\n",
       "bmw                  17\n",
       "hyundai              15\n",
       "kia                  13\n",
       "buick                13\n",
       "honda                12\n",
       "infiniti             12\n",
       "cadillac             10\n",
       "mercedes-benz        10\n",
       "heartland             5\n",
       "land                  4\n",
       "peterbilt             4\n",
       "audi                  4\n",
       "acura                 3\n",
       "mazda                 2\n",
       "lexus                 2\n",
       "lincoln               2\n",
       "toyota                1\n",
       "ram                   1\n",
       "maserati              1\n",
       "harley-davidson       1\n",
       "jaguar                1\n",
       "Name: brand, dtype: int64"
      ]
     },
     "execution_count": 14,
     "metadata": {},
     "output_type": "execute_result"
    }
   ],
   "source": [
    "data.brand.value_counts()"
   ]
  },
  {
   "cell_type": "code",
   "execution_count": 15,
   "metadata": {},
   "outputs": [
    {
     "data": {
      "text/plain": [
       "28"
      ]
     },
     "execution_count": 15,
     "metadata": {},
     "output_type": "execute_result"
    }
   ],
   "source": [
    "data.brand.value_counts().size\n",
    "#no of types"
   ]
  },
  {
   "cell_type": "code",
   "execution_count": 16,
   "metadata": {},
   "outputs": [],
   "source": [
    "#first 15 car brands are contrubiting more to data so we consider only them and rest of them in a single catagory\n",
    "other =data.brand.value_counts().index[15:]"
   ]
  },
  {
   "cell_type": "code",
   "execution_count": 17,
   "metadata": {},
   "outputs": [
    {
     "data": {
      "text/plain": [
       "Index(['heartland', 'land', 'peterbilt', 'audi', 'acura', 'mazda', 'lexus',\n",
       "       'lincoln', 'toyota', 'ram', 'maserati', 'harley-davidson', 'jaguar'],\n",
       "      dtype='object')"
      ]
     },
     "execution_count": 17,
     "metadata": {},
     "output_type": "execute_result"
    }
   ],
   "source": [
    "other"
   ]
  },
  {
   "cell_type": "code",
   "execution_count": 18,
   "metadata": {},
   "outputs": [],
   "source": [
    "data.brand = data.brand.replace(other,\"other\")"
   ]
  },
  {
   "cell_type": "code",
   "execution_count": 19,
   "metadata": {},
   "outputs": [
    {
     "data": {
      "text/html": [
       "<div>\n",
       "<style scoped>\n",
       "    .dataframe tbody tr th:only-of-type {\n",
       "        vertical-align: middle;\n",
       "    }\n",
       "\n",
       "    .dataframe tbody tr th {\n",
       "        vertical-align: top;\n",
       "    }\n",
       "\n",
       "    .dataframe thead th {\n",
       "        text-align: right;\n",
       "    }\n",
       "</style>\n",
       "<table border=\"1\" class=\"dataframe\">\n",
       "  <thead>\n",
       "    <tr style=\"text-align: right;\">\n",
       "      <th></th>\n",
       "      <th>price</th>\n",
       "      <th>brand</th>\n",
       "      <th>model</th>\n",
       "      <th>year</th>\n",
       "      <th>title_status</th>\n",
       "      <th>mileage</th>\n",
       "      <th>color</th>\n",
       "      <th>state</th>\n",
       "      <th>country</th>\n",
       "      <th>condition</th>\n",
       "    </tr>\n",
       "  </thead>\n",
       "  <tbody>\n",
       "    <tr>\n",
       "      <th>0</th>\n",
       "      <td>6300</td>\n",
       "      <td>other</td>\n",
       "      <td>cruiser</td>\n",
       "      <td>2008</td>\n",
       "      <td>clean vehicle</td>\n",
       "      <td>274117</td>\n",
       "      <td>black</td>\n",
       "      <td>new jersey</td>\n",
       "      <td>usa</td>\n",
       "      <td>10 days left</td>\n",
       "    </tr>\n",
       "    <tr>\n",
       "      <th>1</th>\n",
       "      <td>2899</td>\n",
       "      <td>ford</td>\n",
       "      <td>se</td>\n",
       "      <td>2011</td>\n",
       "      <td>clean vehicle</td>\n",
       "      <td>190552</td>\n",
       "      <td>silver</td>\n",
       "      <td>tennessee</td>\n",
       "      <td>usa</td>\n",
       "      <td>6 days left</td>\n",
       "    </tr>\n",
       "    <tr>\n",
       "      <th>2</th>\n",
       "      <td>5350</td>\n",
       "      <td>dodge</td>\n",
       "      <td>mpv</td>\n",
       "      <td>2018</td>\n",
       "      <td>clean vehicle</td>\n",
       "      <td>39590</td>\n",
       "      <td>silver</td>\n",
       "      <td>georgia</td>\n",
       "      <td>usa</td>\n",
       "      <td>2 days left</td>\n",
       "    </tr>\n",
       "    <tr>\n",
       "      <th>3</th>\n",
       "      <td>25000</td>\n",
       "      <td>ford</td>\n",
       "      <td>door</td>\n",
       "      <td>2014</td>\n",
       "      <td>clean vehicle</td>\n",
       "      <td>64146</td>\n",
       "      <td>blue</td>\n",
       "      <td>virginia</td>\n",
       "      <td>usa</td>\n",
       "      <td>22 hours left</td>\n",
       "    </tr>\n",
       "    <tr>\n",
       "      <th>4</th>\n",
       "      <td>27700</td>\n",
       "      <td>chevrolet</td>\n",
       "      <td>1500</td>\n",
       "      <td>2018</td>\n",
       "      <td>clean vehicle</td>\n",
       "      <td>6654</td>\n",
       "      <td>red</td>\n",
       "      <td>florida</td>\n",
       "      <td>usa</td>\n",
       "      <td>22 hours left</td>\n",
       "    </tr>\n",
       "    <tr>\n",
       "      <th>...</th>\n",
       "      <td>...</td>\n",
       "      <td>...</td>\n",
       "      <td>...</td>\n",
       "      <td>...</td>\n",
       "      <td>...</td>\n",
       "      <td>...</td>\n",
       "      <td>...</td>\n",
       "      <td>...</td>\n",
       "      <td>...</td>\n",
       "      <td>...</td>\n",
       "    </tr>\n",
       "    <tr>\n",
       "      <th>2494</th>\n",
       "      <td>7800</td>\n",
       "      <td>nissan</td>\n",
       "      <td>versa</td>\n",
       "      <td>2019</td>\n",
       "      <td>clean vehicle</td>\n",
       "      <td>23609</td>\n",
       "      <td>red</td>\n",
       "      <td>california</td>\n",
       "      <td>usa</td>\n",
       "      <td>1 days left</td>\n",
       "    </tr>\n",
       "    <tr>\n",
       "      <th>2495</th>\n",
       "      <td>9200</td>\n",
       "      <td>nissan</td>\n",
       "      <td>versa</td>\n",
       "      <td>2018</td>\n",
       "      <td>clean vehicle</td>\n",
       "      <td>34553</td>\n",
       "      <td>silver</td>\n",
       "      <td>florida</td>\n",
       "      <td>usa</td>\n",
       "      <td>21 hours left</td>\n",
       "    </tr>\n",
       "    <tr>\n",
       "      <th>2496</th>\n",
       "      <td>9200</td>\n",
       "      <td>nissan</td>\n",
       "      <td>versa</td>\n",
       "      <td>2018</td>\n",
       "      <td>clean vehicle</td>\n",
       "      <td>31594</td>\n",
       "      <td>silver</td>\n",
       "      <td>florida</td>\n",
       "      <td>usa</td>\n",
       "      <td>21 hours left</td>\n",
       "    </tr>\n",
       "    <tr>\n",
       "      <th>2497</th>\n",
       "      <td>9200</td>\n",
       "      <td>nissan</td>\n",
       "      <td>versa</td>\n",
       "      <td>2018</td>\n",
       "      <td>clean vehicle</td>\n",
       "      <td>32557</td>\n",
       "      <td>black</td>\n",
       "      <td>florida</td>\n",
       "      <td>usa</td>\n",
       "      <td>2 days left</td>\n",
       "    </tr>\n",
       "    <tr>\n",
       "      <th>2498</th>\n",
       "      <td>9200</td>\n",
       "      <td>nissan</td>\n",
       "      <td>versa</td>\n",
       "      <td>2018</td>\n",
       "      <td>clean vehicle</td>\n",
       "      <td>31371</td>\n",
       "      <td>silver</td>\n",
       "      <td>florida</td>\n",
       "      <td>usa</td>\n",
       "      <td>21 hours left</td>\n",
       "    </tr>\n",
       "  </tbody>\n",
       "</table>\n",
       "<p>2499 rows × 10 columns</p>\n",
       "</div>"
      ],
      "text/plain": [
       "      price      brand    model  year   title_status  mileage   color  \\\n",
       "0      6300      other  cruiser  2008  clean vehicle   274117   black   \n",
       "1      2899       ford       se  2011  clean vehicle   190552  silver   \n",
       "2      5350      dodge      mpv  2018  clean vehicle    39590  silver   \n",
       "3     25000       ford     door  2014  clean vehicle    64146    blue   \n",
       "4     27700  chevrolet     1500  2018  clean vehicle     6654     red   \n",
       "...     ...        ...      ...   ...            ...      ...     ...   \n",
       "2494   7800     nissan    versa  2019  clean vehicle    23609     red   \n",
       "2495   9200     nissan    versa  2018  clean vehicle    34553  silver   \n",
       "2496   9200     nissan    versa  2018  clean vehicle    31594  silver   \n",
       "2497   9200     nissan    versa  2018  clean vehicle    32557   black   \n",
       "2498   9200     nissan    versa  2018  clean vehicle    31371  silver   \n",
       "\n",
       "           state country      condition  \n",
       "0     new jersey     usa   10 days left  \n",
       "1      tennessee     usa    6 days left  \n",
       "2        georgia     usa    2 days left  \n",
       "3       virginia     usa  22 hours left  \n",
       "4        florida     usa  22 hours left  \n",
       "...          ...     ...            ...  \n",
       "2494  california     usa    1 days left  \n",
       "2495     florida     usa  21 hours left  \n",
       "2496     florida     usa  21 hours left  \n",
       "2497     florida     usa    2 days left  \n",
       "2498     florida     usa  21 hours left  \n",
       "\n",
       "[2499 rows x 10 columns]"
      ]
     },
     "execution_count": 19,
     "metadata": {},
     "output_type": "execute_result"
    }
   ],
   "source": [
    "data"
   ]
  },
  {
   "cell_type": "code",
   "execution_count": 20,
   "metadata": {},
   "outputs": [
    {
     "data": {
      "text/plain": [
       "ford             1235\n",
       "dodge             432\n",
       "nissan            312\n",
       "chevrolet         297\n",
       "gmc                42\n",
       "other              31\n",
       "jeep               30\n",
       "chrysler           18\n",
       "bmw                17\n",
       "hyundai            15\n",
       "buick              13\n",
       "kia                13\n",
       "infiniti           12\n",
       "honda              12\n",
       "mercedes-benz      10\n",
       "cadillac           10\n",
       "Name: brand, dtype: int64"
      ]
     },
     "execution_count": 20,
     "metadata": {},
     "output_type": "execute_result"
    }
   ],
   "source": [
    "data.brand.value_counts()"
   ]
  },
  {
   "cell_type": "code",
   "execution_count": 21,
   "metadata": {},
   "outputs": [],
   "source": [
    "#"
   ]
  },
  {
   "cell_type": "code",
   "execution_count": 22,
   "metadata": {},
   "outputs": [
    {
     "data": {
      "text/plain": [
       "<matplotlib.axes._subplots.AxesSubplot at 0x7f02b5c0f430>"
      ]
     },
     "execution_count": 22,
     "metadata": {},
     "output_type": "execute_result"
    },
    {
     "data": {
      "image/png": "[encoded data removed]",
      "text/plain": [
       "<Figure size 1080x576 with 1 Axes>"
      ]
     },
     "metadata": {
      "needs_background": "light"
     },
     "output_type": "display_data"
    }
   ],
   "source": [
    "#checking price via brand\n",
    "plt.figure(figsize=(15,8))\n",
    "sns.set(style='darkgrid')\n",
    "sns.boxplot(x ='brand',y='price',data=data)"
   ]
  },
  {
   "cell_type": "code",
   "execution_count": 23,
   "metadata": {},
   "outputs": [
    {
     "data": {
      "text/html": [
       "<div>\n",
       "<style scoped>\n",
       "    .dataframe tbody tr th:only-of-type {\n",
       "        vertical-align: middle;\n",
       "    }\n",
       "\n",
       "    .dataframe tbody tr th {\n",
       "        vertical-align: top;\n",
       "    }\n",
       "\n",
       "    .dataframe thead th {\n",
       "        text-align: right;\n",
       "    }\n",
       "</style>\n",
       "<table border=\"1\" class=\"dataframe\">\n",
       "  <thead>\n",
       "    <tr style=\"text-align: right;\">\n",
       "      <th></th>\n",
       "      <th>price</th>\n",
       "      <th>brand</th>\n",
       "      <th>model</th>\n",
       "      <th>year</th>\n",
       "      <th>title_status</th>\n",
       "      <th>mileage</th>\n",
       "      <th>color</th>\n",
       "      <th>state</th>\n",
       "      <th>country</th>\n",
       "      <th>condition</th>\n",
       "    </tr>\n",
       "  </thead>\n",
       "  <tbody>\n",
       "    <tr>\n",
       "      <th>0</th>\n",
       "      <td>6300</td>\n",
       "      <td>other</td>\n",
       "      <td>cruiser</td>\n",
       "      <td>2008</td>\n",
       "      <td>clean vehicle</td>\n",
       "      <td>274117</td>\n",
       "      <td>black</td>\n",
       "      <td>new jersey</td>\n",
       "      <td>usa</td>\n",
       "      <td>10 days left</td>\n",
       "    </tr>\n",
       "    <tr>\n",
       "      <th>1</th>\n",
       "      <td>2899</td>\n",
       "      <td>ford</td>\n",
       "      <td>se</td>\n",
       "      <td>2011</td>\n",
       "      <td>clean vehicle</td>\n",
       "      <td>190552</td>\n",
       "      <td>silver</td>\n",
       "      <td>tennessee</td>\n",
       "      <td>usa</td>\n",
       "      <td>6 days left</td>\n",
       "    </tr>\n",
       "    <tr>\n",
       "      <th>2</th>\n",
       "      <td>5350</td>\n",
       "      <td>dodge</td>\n",
       "      <td>mpv</td>\n",
       "      <td>2018</td>\n",
       "      <td>clean vehicle</td>\n",
       "      <td>39590</td>\n",
       "      <td>silver</td>\n",
       "      <td>georgia</td>\n",
       "      <td>usa</td>\n",
       "      <td>2 days left</td>\n",
       "    </tr>\n",
       "    <tr>\n",
       "      <th>3</th>\n",
       "      <td>25000</td>\n",
       "      <td>ford</td>\n",
       "      <td>door</td>\n",
       "      <td>2014</td>\n",
       "      <td>clean vehicle</td>\n",
       "      <td>64146</td>\n",
       "      <td>blue</td>\n",
       "      <td>virginia</td>\n",
       "      <td>usa</td>\n",
       "      <td>22 hours left</td>\n",
       "    </tr>\n",
       "    <tr>\n",
       "      <th>4</th>\n",
       "      <td>27700</td>\n",
       "      <td>chevrolet</td>\n",
       "      <td>1500</td>\n",
       "      <td>2018</td>\n",
       "      <td>clean vehicle</td>\n",
       "      <td>6654</td>\n",
       "      <td>red</td>\n",
       "      <td>florida</td>\n",
       "      <td>usa</td>\n",
       "      <td>22 hours left</td>\n",
       "    </tr>\n",
       "  </tbody>\n",
       "</table>\n",
       "</div>"
      ],
      "text/plain": [
       "   price      brand    model  year   title_status  mileage   color  \\\n",
       "0   6300      other  cruiser  2008  clean vehicle   274117   black   \n",
       "1   2899       ford       se  2011  clean vehicle   190552  silver   \n",
       "2   5350      dodge      mpv  2018  clean vehicle    39590  silver   \n",
       "3  25000       ford     door  2014  clean vehicle    64146    blue   \n",
       "4  27700  chevrolet     1500  2018  clean vehicle     6654     red   \n",
       "\n",
       "        state country      condition  \n",
       "0  new jersey     usa   10 days left  \n",
       "1   tennessee     usa    6 days left  \n",
       "2     georgia     usa    2 days left  \n",
       "3    virginia     usa  22 hours left  \n",
       "4     florida     usa  22 hours left  "
      ]
     },
     "execution_count": 23,
     "metadata": {},
     "output_type": "execute_result"
    }
   ],
   "source": [
    "data.head()"
   ]
  },
  {
   "cell_type": "code",
   "execution_count": 24,
   "metadata": {},
   "outputs": [
    {
     "data": {
      "text/html": [
       "<div>\n",
       "<style scoped>\n",
       "    .dataframe tbody tr th:only-of-type {\n",
       "        vertical-align: middle;\n",
       "    }\n",
       "\n",
       "    .dataframe tbody tr th {\n",
       "        vertical-align: top;\n",
       "    }\n",
       "\n",
       "    .dataframe thead th {\n",
       "        text-align: right;\n",
       "    }\n",
       "</style>\n",
       "<table border=\"1\" class=\"dataframe\">\n",
       "  <thead>\n",
       "    <tr style=\"text-align: right;\">\n",
       "      <th></th>\n",
       "      <th>brand</th>\n",
       "      <th>model</th>\n",
       "    </tr>\n",
       "    <tr>\n",
       "      <th>brand</th>\n",
       "      <th></th>\n",
       "      <th></th>\n",
       "    </tr>\n",
       "  </thead>\n",
       "  <tbody>\n",
       "    <tr>\n",
       "      <th>bmw</th>\n",
       "      <td>1</td>\n",
       "      <td>5</td>\n",
       "    </tr>\n",
       "    <tr>\n",
       "      <th>buick</th>\n",
       "      <td>1</td>\n",
       "      <td>3</td>\n",
       "    </tr>\n",
       "    <tr>\n",
       "      <th>cadillac</th>\n",
       "      <td>1</td>\n",
       "      <td>5</td>\n",
       "    </tr>\n",
       "    <tr>\n",
       "      <th>chevrolet</th>\n",
       "      <td>1</td>\n",
       "      <td>28</td>\n",
       "    </tr>\n",
       "    <tr>\n",
       "      <th>chrysler</th>\n",
       "      <td>1</td>\n",
       "      <td>6</td>\n",
       "    </tr>\n",
       "    <tr>\n",
       "      <th>dodge</th>\n",
       "      <td>1</td>\n",
       "      <td>13</td>\n",
       "    </tr>\n",
       "    <tr>\n",
       "      <th>ford</th>\n",
       "      <td>1</td>\n",
       "      <td>40</td>\n",
       "    </tr>\n",
       "    <tr>\n",
       "      <th>gmc</th>\n",
       "      <td>1</td>\n",
       "      <td>7</td>\n",
       "    </tr>\n",
       "    <tr>\n",
       "      <th>honda</th>\n",
       "      <td>1</td>\n",
       "      <td>4</td>\n",
       "    </tr>\n",
       "    <tr>\n",
       "      <th>hyundai</th>\n",
       "      <td>1</td>\n",
       "      <td>4</td>\n",
       "    </tr>\n",
       "    <tr>\n",
       "      <th>infiniti</th>\n",
       "      <td>1</td>\n",
       "      <td>2</td>\n",
       "    </tr>\n",
       "    <tr>\n",
       "      <th>jeep</th>\n",
       "      <td>1</td>\n",
       "      <td>4</td>\n",
       "    </tr>\n",
       "    <tr>\n",
       "      <th>kia</th>\n",
       "      <td>1</td>\n",
       "      <td>6</td>\n",
       "    </tr>\n",
       "    <tr>\n",
       "      <th>mercedes-benz</th>\n",
       "      <td>1</td>\n",
       "      <td>7</td>\n",
       "    </tr>\n",
       "    <tr>\n",
       "      <th>nissan</th>\n",
       "      <td>1</td>\n",
       "      <td>23</td>\n",
       "    </tr>\n",
       "    <tr>\n",
       "      <th>other</th>\n",
       "      <td>1</td>\n",
       "      <td>19</td>\n",
       "    </tr>\n",
       "  </tbody>\n",
       "</table>\n",
       "</div>"
      ],
      "text/plain": [
       "               brand  model\n",
       "brand                      \n",
       "bmw                1      5\n",
       "buick              1      3\n",
       "cadillac           1      5\n",
       "chevrolet          1     28\n",
       "chrysler           1      6\n",
       "dodge              1     13\n",
       "ford               1     40\n",
       "gmc                1      7\n",
       "honda              1      4\n",
       "hyundai            1      4\n",
       "infiniti           1      2\n",
       "jeep               1      4\n",
       "kia                1      6\n",
       "mercedes-benz      1      7\n",
       "nissan             1     23\n",
       "other              1     19"
      ]
     },
     "execution_count": 24,
     "metadata": {},
     "output_type": "execute_result"
    }
   ],
   "source": [
    "data[['brand','model']].groupby(\"brand\").nunique()"
   ]
  },
  {
   "cell_type": "code",
   "execution_count": 25,
   "metadata": {},
   "outputs": [
    {
     "data": {
      "text/plain": [
       "Text(0.5, 1.0, 'Prices of Different Dodge Models')"
      ]
     },
     "execution_count": 25,
     "metadata": {},
     "output_type": "execute_result"
    },
    {
     "data": {
      "image/png": "[encoded data removed]",
      "text/plain": [
       "<Figure size 864x360 with 1 Axes>"
      ]
     },
     "metadata": {},
     "output_type": "display_data"
    }
   ],
   "source": [
    "#chervolet has more models than dodge but \n",
    "#dodge has more brand than chervolet\n",
    "\n",
    "# price distribution depending upon  diff models of a brand\n",
    "plt.figure(figsize=(12,5))\n",
    "sns.set(style='darkgrid')\n",
    "sns.boxplot(x='model', y='price', data=data[data.brand == 'dodge']).\\\n",
    "set_title('Prices of Different Dodge Models')\n",
    "\n",
    "\n"
   ]
  },
  {
   "cell_type": "code",
   "execution_count": 26,
   "metadata": {},
   "outputs": [
    {
     "data": {
      "text/plain": [
       "Text(0.5, 1.0, 'Prices of Different ford Models')"
      ]
     },
     "execution_count": 26,
     "metadata": {},
     "output_type": "execute_result"
    },
    {
     "data": {
      "image/png": "[encoded data removed]",
      "text/plain": [
       "<Figure size 2520x1080 with 1 Axes>"
      ]
     },
     "metadata": {},
     "output_type": "display_data"
    }
   ],
   "source": [
    "plt.figure(figsize=(35,15))\n",
    "sns.set(style='darkgrid')\n",
    "sns.boxplot(x='model', y='price', data=data[data.brand == 'ford']).\\\n",
    "set_title('Prices of Different ford Models')"
   ]
  },
  {
   "cell_type": "code",
   "execution_count": 27,
   "metadata": {},
   "outputs": [
    {
     "data": {
      "text/plain": [
       "Text(0.5, 1.0, 'Prices of Different chevrolet Models')"
      ]
     },
     "execution_count": 27,
     "metadata": {},
     "output_type": "execute_result"
    },
    {
     "data": {
      "image/png": "[encoded data removed]",
      "text/plain": [
       "<Figure size 1800x576 with 1 Axes>"
      ]
     },
     "metadata": {},
     "output_type": "display_data"
    }
   ],
   "source": [
    "plt.figure(figsize=(25,8))\n",
    "sns.set(style='darkgrid')\n",
    "sns.boxplot(x='model', y='price', data=data[data.brand == 'chevrolet']).\\\n",
    "set_title('Prices of Different chevrolet Models')"
   ]
  },
  {
   "cell_type": "code",
   "execution_count": 28,
   "metadata": {},
   "outputs": [
    {
     "data": {
      "text/plain": [
       "door        651\n",
       "f-150       219\n",
       "doors       148\n",
       "caravan     102\n",
       "mpv          87\n",
       "           ... \n",
       "m             1\n",
       "elantra       1\n",
       "gx            1\n",
       "nautilus      1\n",
       "cruiser       1\n",
       "Name: model, Length: 127, dtype: int64"
      ]
     },
     "execution_count": 28,
     "metadata": {},
     "output_type": "execute_result"
    }
   ],
   "source": [
    "data.model.value_counts()"
   ]
  },
  {
   "cell_type": "code",
   "execution_count": 43,
   "metadata": {},
   "outputs": [],
   "source": [
    "othercolor =data.color.value_counts().index[6:]\n"
   ]
  },
  {
   "cell_type": "code",
   "execution_count": 44,
   "metadata": {},
   "outputs": [],
   "source": [
    "data.color = data.color.replace(othercolor, \"othercolors\")"
   ]
  },
  {
   "cell_type": "code",
   "execution_count": 45,
   "metadata": {},
   "outputs": [
    {
     "data": {
      "text/plain": [
       "white          707\n",
       "black          516\n",
       "gray           395\n",
       "othercolors    389\n",
       "silver         300\n",
       "red            192\n",
       "Name: color, dtype: int64"
      ]
     },
     "execution_count": 45,
     "metadata": {},
     "output_type": "execute_result"
    }
   ],
   "source": [
    "\n",
    "data.color.value_counts()"
   ]
  },
  {
   "cell_type": "code",
   "execution_count": 48,
   "metadata": {},
   "outputs": [
    {
     "data": {
      "text/plain": [
       "<matplotlib.axes._subplots.AxesSubplot at 0x7f02b5997c40>"
      ]
     },
     "execution_count": 48,
     "metadata": {},
     "output_type": "execute_result"
    },
    {
     "data": {
      "image/png": "[encoded data removed]",
      "text/plain": [
       "<Figure size 1080x360 with 1 Axes>"
      ]
     },
     "metadata": {},
     "output_type": "display_data"
    }
   ],
   "source": [
    "plt.figure(figsize=(15,5))\n",
    "sns.set(style='darkgrid')\n",
    "sns.boxplot(x='color', y='price', data=data)"
   ]
  },
  {
   "cell_type": "code",
   "execution_count": 49,
   "metadata": {},
   "outputs": [
    {
     "data": {
      "text/plain": [
       "102"
      ]
     },
     "execution_count": 49,
     "metadata": {},
     "output_type": "execute_result"
    }
   ],
   "source": [
    "#av price value is not much affected by colour \n",
    "#so not use this also\n",
    "\n",
    "#no of outliers\n",
    "len(data[data.price>45000])"
   ]
  },
  {
   "cell_type": "code",
   "execution_count": 41,
   "metadata": {},
   "outputs": [],
   "source": [
    "#% contribution of outliers in data\n"
   ]
  },
  {
   "cell_type": "code",
   "execution_count": 50,
   "metadata": {},
   "outputs": [
    {
     "data": {
      "text/plain": [
       "0.04081632653061224"
      ]
     },
     "execution_count": 50,
     "metadata": {},
     "output_type": "execute_result"
    }
   ],
   "source": [
    "len(data[data.price>45000])/len(data)"
   ]
  },
  {
   "cell_type": "code",
   "execution_count": 52,
   "metadata": {},
   "outputs": [],
   "source": [
    "#only 4% cars are above 45000 so can and cannot drop them\n",
    "# i am dropping\n",
    "\n",
    "data.drop(\"color\",axis=1,inplace=True)"
   ]
  },
  {
   "cell_type": "code",
   "execution_count": 62,
   "metadata": {},
   "outputs": [],
   "source": [
    "data = data[data.price<45000]"
   ]
  },
  {
   "cell_type": "code",
   "execution_count": 64,
   "metadata": {},
   "outputs": [
    {
     "data": {
      "text/html": [
       "<div>\n",
       "<style scoped>\n",
       "    .dataframe tbody tr th:only-of-type {\n",
       "        vertical-align: middle;\n",
       "    }\n",
       "\n",
       "    .dataframe tbody tr th {\n",
       "        vertical-align: top;\n",
       "    }\n",
       "\n",
       "    .dataframe thead th {\n",
       "        text-align: right;\n",
       "    }\n",
       "</style>\n",
       "<table border=\"1\" class=\"dataframe\">\n",
       "  <thead>\n",
       "    <tr style=\"text-align: right;\">\n",
       "      <th></th>\n",
       "      <th>price</th>\n",
       "      <th>brand</th>\n",
       "      <th>model</th>\n",
       "      <th>year</th>\n",
       "      <th>title_status</th>\n",
       "      <th>mileage</th>\n",
       "      <th>state</th>\n",
       "      <th>country</th>\n",
       "      <th>condition</th>\n",
       "    </tr>\n",
       "  </thead>\n",
       "  <tbody>\n",
       "    <tr>\n",
       "      <th>0</th>\n",
       "      <td>6300</td>\n",
       "      <td>other</td>\n",
       "      <td>cruiser</td>\n",
       "      <td>2008</td>\n",
       "      <td>clean vehicle</td>\n",
       "      <td>274117</td>\n",
       "      <td>new jersey</td>\n",
       "      <td>usa</td>\n",
       "      <td>10 days left</td>\n",
       "    </tr>\n",
       "    <tr>\n",
       "      <th>1</th>\n",
       "      <td>2899</td>\n",
       "      <td>ford</td>\n",
       "      <td>se</td>\n",
       "      <td>2011</td>\n",
       "      <td>clean vehicle</td>\n",
       "      <td>190552</td>\n",
       "      <td>tennessee</td>\n",
       "      <td>usa</td>\n",
       "      <td>6 days left</td>\n",
       "    </tr>\n",
       "    <tr>\n",
       "      <th>2</th>\n",
       "      <td>5350</td>\n",
       "      <td>dodge</td>\n",
       "      <td>mpv</td>\n",
       "      <td>2018</td>\n",
       "      <td>clean vehicle</td>\n",
       "      <td>39590</td>\n",
       "      <td>georgia</td>\n",
       "      <td>usa</td>\n",
       "      <td>2 days left</td>\n",
       "    </tr>\n",
       "    <tr>\n",
       "      <th>3</th>\n",
       "      <td>25000</td>\n",
       "      <td>ford</td>\n",
       "      <td>door</td>\n",
       "      <td>2014</td>\n",
       "      <td>clean vehicle</td>\n",
       "      <td>64146</td>\n",
       "      <td>virginia</td>\n",
       "      <td>usa</td>\n",
       "      <td>22 hours left</td>\n",
       "    </tr>\n",
       "    <tr>\n",
       "      <th>4</th>\n",
       "      <td>27700</td>\n",
       "      <td>chevrolet</td>\n",
       "      <td>1500</td>\n",
       "      <td>2018</td>\n",
       "      <td>clean vehicle</td>\n",
       "      <td>6654</td>\n",
       "      <td>florida</td>\n",
       "      <td>usa</td>\n",
       "      <td>22 hours left</td>\n",
       "    </tr>\n",
       "    <tr>\n",
       "      <th>...</th>\n",
       "      <td>...</td>\n",
       "      <td>...</td>\n",
       "      <td>...</td>\n",
       "      <td>...</td>\n",
       "      <td>...</td>\n",
       "      <td>...</td>\n",
       "      <td>...</td>\n",
       "      <td>...</td>\n",
       "      <td>...</td>\n",
       "    </tr>\n",
       "    <tr>\n",
       "      <th>2494</th>\n",
       "      <td>7800</td>\n",
       "      <td>nissan</td>\n",
       "      <td>versa</td>\n",
       "      <td>2019</td>\n",
       "      <td>clean vehicle</td>\n",
       "      <td>23609</td>\n",
       "      <td>california</td>\n",
       "      <td>usa</td>\n",
       "      <td>1 days left</td>\n",
       "    </tr>\n",
       "    <tr>\n",
       "      <th>2495</th>\n",
       "      <td>9200</td>\n",
       "      <td>nissan</td>\n",
       "      <td>versa</td>\n",
       "      <td>2018</td>\n",
       "      <td>clean vehicle</td>\n",
       "      <td>34553</td>\n",
       "      <td>florida</td>\n",
       "      <td>usa</td>\n",
       "      <td>21 hours left</td>\n",
       "    </tr>\n",
       "    <tr>\n",
       "      <th>2496</th>\n",
       "      <td>9200</td>\n",
       "      <td>nissan</td>\n",
       "      <td>versa</td>\n",
       "      <td>2018</td>\n",
       "      <td>clean vehicle</td>\n",
       "      <td>31594</td>\n",
       "      <td>florida</td>\n",
       "      <td>usa</td>\n",
       "      <td>21 hours left</td>\n",
       "    </tr>\n",
       "    <tr>\n",
       "      <th>2497</th>\n",
       "      <td>9200</td>\n",
       "      <td>nissan</td>\n",
       "      <td>versa</td>\n",
       "      <td>2018</td>\n",
       "      <td>clean vehicle</td>\n",
       "      <td>32557</td>\n",
       "      <td>florida</td>\n",
       "      <td>usa</td>\n",
       "      <td>2 days left</td>\n",
       "    </tr>\n",
       "    <tr>\n",
       "      <th>2498</th>\n",
       "      <td>9200</td>\n",
       "      <td>nissan</td>\n",
       "      <td>versa</td>\n",
       "      <td>2018</td>\n",
       "      <td>clean vehicle</td>\n",
       "      <td>31371</td>\n",
       "      <td>florida</td>\n",
       "      <td>usa</td>\n",
       "      <td>21 hours left</td>\n",
       "    </tr>\n",
       "  </tbody>\n",
       "</table>\n",
       "<p>2394 rows × 9 columns</p>\n",
       "</div>"
      ],
      "text/plain": [
       "      price      brand    model  year   title_status  mileage       state  \\\n",
       "0      6300      other  cruiser  2008  clean vehicle   274117  new jersey   \n",
       "1      2899       ford       se  2011  clean vehicle   190552   tennessee   \n",
       "2      5350      dodge      mpv  2018  clean vehicle    39590     georgia   \n",
       "3     25000       ford     door  2014  clean vehicle    64146    virginia   \n",
       "4     27700  chevrolet     1500  2018  clean vehicle     6654     florida   \n",
       "...     ...        ...      ...   ...            ...      ...         ...   \n",
       "2494   7800     nissan    versa  2019  clean vehicle    23609  california   \n",
       "2495   9200     nissan    versa  2018  clean vehicle    34553     florida   \n",
       "2496   9200     nissan    versa  2018  clean vehicle    31594     florida   \n",
       "2497   9200     nissan    versa  2018  clean vehicle    32557     florida   \n",
       "2498   9200     nissan    versa  2018  clean vehicle    31371     florida   \n",
       "\n",
       "     country      condition  \n",
       "0        usa   10 days left  \n",
       "1        usa    6 days left  \n",
       "2        usa    2 days left  \n",
       "3        usa  22 hours left  \n",
       "4        usa  22 hours left  \n",
       "...      ...            ...  \n",
       "2494     usa    1 days left  \n",
       "2495     usa  21 hours left  \n",
       "2496     usa  21 hours left  \n",
       "2497     usa    2 days left  \n",
       "2498     usa  21 hours left  \n",
       "\n",
       "[2394 rows x 9 columns]"
      ]
     },
     "execution_count": 64,
     "metadata": {},
     "output_type": "execute_result"
    }
   ],
   "source": []
  },
  {
   "cell_type": "code",
   "execution_count": null,
   "metadata": {},
   "outputs": [],
   "source": []
  }
 ],
 "metadata": {
  "kernelspec": {
   "display_name": "Python 3",
   "language": "python",
   "name": "python3"
  },
  "language_info": {
   "codemirror_mode": {
    "name": "ipython",
    "version": 3
   },
   "file_extension": ".py",
   "mimetype": "text/x-python",
   "name": "python",
   "nbconvert_exporter": "python",
   "pygments_lexer": "ipython3",
   "version": "3.6.10"
  }
 },
 "nbformat": 4,
 "nbformat_minor": 4
}
